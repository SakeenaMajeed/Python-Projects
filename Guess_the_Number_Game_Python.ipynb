{
  "nbformat": 4,
  "nbformat_minor": 0,
  "metadata": {
    "colab": {
      "provenance": [],
      "authorship_tag": "ABX9TyOYYxcbpCcQsFaQFoH/gRqr",
      "include_colab_link": true
    },
    "kernelspec": {
      "name": "python3",
      "display_name": "Python 3"
    },
    "language_info": {
      "name": "python"
    }
  },
  "cells": [
    {
      "cell_type": "markdown",
      "metadata": {
        "id": "view-in-github",
        "colab_type": "text"
      },
      "source": [
        "<a href=\"https://colab.research.google.com/github/SakeenaMajeed/Python-Projects/blob/main/Guess_the_Number_Game_Python.ipynb\" target=\"_parent\"><img src=\"https://colab.research.google.com/assets/colab-badge.svg\" alt=\"Open In Colab\"/></a>"
      ]
    },
    {
      "cell_type": "markdown",
      "source": [
        "# Project 2 Guess the Number Game Python Project (computer) !\n",
        "\n",
        "[Linkedin](https://www.linkedin.com/in/sakeena-majeed-86b58732a/)\n"
      ],
      "metadata": {
        "id": "wpctHnh2jam5"
      }
    },
    {
      "cell_type": "code",
      "source": [
        "import random\n",
        "\n",
        "def computer_guess():\n",
        "    print(\"🎯 Welcome to the 'Guess the Number' Game! 🤖🎲\")\n",
        "    print(\"🤔 Think of a number between **1 and 20**, and I'll try to guess it! 🔢\")\n",
        "\n",
        "    low = 1\n",
        "    high = 20\n",
        "    attempts = 0\n",
        "\n",
        "    while True:\n",
        "        if low > high:\n",
        "            print(\"⚠️ Something went wrong! Did you change your number? 😲\")\n",
        "            break\n",
        "\n",
        "        guess = random.randint(low, high)\n",
        "        attempts += 1\n",
        "\n",
        "        print(f\"🤖 My guess is: **{guess}** 🎯\")\n",
        "        feedback = input(\"📢 Is it (H)igh, (L)ow, or (C)orrect? \").lower()\n",
        "\n",
        "        if feedback == \"c\":\n",
        "            print(f\"🎉 Wohoooo! 🥳 I guessed it in **{attempts}** attempts! 🏆🔥\")\n",
        "            break\n",
        "        elif feedback == \"h\":\n",
        "            high = guess - 1\n",
        "        elif feedback == \"l\":\n",
        "            low = guess + 1\n",
        "        else:\n",
        "            print(\"⚠️ Please enter **H, L, or C** only! 📝\")\n",
        "\n",
        "computer_guess()\n"
      ],
      "metadata": {
        "colab": {
          "base_uri": "https://localhost:8080/"
        },
        "id": "-8skz9p9H2YW",
        "outputId": "96d82a3f-295d-4ec9-e5c4-67f4fffe4d77"
      },
      "execution_count": null,
      "outputs": [
        {
          "output_type": "stream",
          "name": "stdout",
          "text": [
            "🎯 Welcome to the 'Guess the Number' Game! 🤖🎲\n",
            "🤔 Think of a number between **1 and 20**, and I'll try to guess it! 🔢\n",
            "🤖 My guess is: **16** 🎯\n",
            "📢 Is it (H)igh, (L)ow, or (C)orrect? h\n",
            "🤖 My guess is: **3** 🎯\n",
            "📢 Is it (H)igh, (L)ow, or (C)orrect? l\n",
            "🤖 My guess is: **15** 🎯\n",
            "📢 Is it (H)igh, (L)ow, or (C)orrect? h\n",
            "🤖 My guess is: **5** 🎯\n",
            "📢 Is it (H)igh, (L)ow, or (C)orrect? c\n",
            "🎉 Wohoooo! 🥳 I guessed it in **4** attempts! 🏆🔥\n"
          ]
        }
      ]
    }
  ]
}