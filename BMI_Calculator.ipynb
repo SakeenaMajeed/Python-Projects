{
  "nbformat": 4,
  "nbformat_minor": 0,
  "metadata": {
    "colab": {
      "provenance": [],
      "authorship_tag": "ABX9TyNxUSI2TBzEC0m3+4TH8awE",
      "include_colab_link": true
    },
    "kernelspec": {
      "name": "python3",
      "display_name": "Python 3"
    },
    "language_info": {
      "name": "python"
    }
  },
  "cells": [
    {
      "cell_type": "markdown",
      "metadata": {
        "id": "view-in-github",
        "colab_type": "text"
      },
      "source": [
        "<a href=\"https://colab.research.google.com/github/SakeenaMajeed/Python-Projects/blob/main/BMI_Calculator.ipynb\" target=\"_parent\"><img src=\"https://colab.research.google.com/assets/colab-badge.svg\" alt=\"Open In Colab\"/></a>"
      ]
    },
    {
      "cell_type": "markdown",
      "source": [
        "**Project 8: Create a Python Streamlit BMI Calculator Web App**\n",
        "\n",
        "[Live View 👀](https://bmi-calculator-sakeena.streamlit.app/)\n",
        "```\n",
        "\n"
      ],
      "metadata": {
        "id": "R-m6mXioDlTJ"
      }
    },
    {
      "cell_type": "code",
      "source": [
        "import streamlit as st\n",
        "import time\n",
        "\n",
        "def calculate_bmi(weight, height):\n",
        "    return weight / (height ** 2)\n",
        "\n",
        "def bmi_category(bmi):\n",
        "    if bmi < 18.5:\n",
        "        return \"Underweight 😔 Eat nutritious foods! 🍎🥦\"\n",
        "    elif 18.5 <= bmi < 24.9:\n",
        "        return \"Normal weight ✅ Great job! Keep staying healthy! 💪✨\"\n",
        "    elif 25 <= bmi < 29.9:\n",
        "        return \"Overweight ⚠️ Time to stay active! 🏃‍♂️🥗\"\n",
        "    else:\n",
        "        return \"Obese ❗ Consider a healthier lifestyle. 🏋️‍♀️🍏\"\n",
        "\n",
        "st.set_page_config(page_title=\"BMI Calculator\", page_icon=\"⚖️\", layout=\"centered\")\n",
        "\n",
        "st.markdown(\n",
        "    \"\"\"\n",
        "    <style>\n",
        "        body {\n",
        "            background: linear-gradient(to right, #ff9966, #ff5e62);\n",
        "            font-family: 'Poppins', sans-serif;\n",
        "            color: #333;\n",
        "        }\n",
        "        .stApp {\n",
        "            background-color: rgba(255, 255, 255, 0.95);\n",
        "            padding: 2rem;\n",
        "            border-radius: 15px;\n",
        "            box-shadow: 0px 10px 25px rgba(0,0,0,0.3);\n",
        "            text-align: center;\n",
        "        }\n",
        "        .stButton>button {\n",
        "            background: linear-gradient(135deg, #007bff, #00c6ff);\n",
        "            color: white;\n",
        "            border: none;\n",
        "            border-radius: 50px;\n",
        "            padding: 16px 35px;\n",
        "            font-size: 22px;\n",
        "            font-weight: bold;\n",
        "            transition: 0.4s;\n",
        "            cursor: pointer;\n",
        "            box-shadow: 0px 8px 20px rgba(0,0,0,0.3);\n",
        "            letter-spacing: 1px;\n",
        "            text-transform: uppercase;\n",
        "        }\n",
        "        .stButton>button:hover {\n",
        "            background: linear-gradient(135deg, #00c6ff, #007bff);\n",
        "            transform: scale(1.12);\n",
        "              color: white;\n",
        "            box-shadow: 0px 10px 25px rgba(0,0,0,0.4);\n",
        "        }\n",
        "        .result-box {\n",
        "            padding: 25px;\n",
        "            background: #fff;\n",
        "            border-radius: 15px;\n",
        "            box-shadow: 0px 5px 20px rgba(0,0,0,0.2);\n",
        "            margin-top: 25px;\n",
        "            animation: fadeIn 1s ease-in-out;\n",
        "        }\n",
        "        @keyframes fadeIn {\n",
        "            from { opacity: 0; transform: translateY(-15px); }\n",
        "            to { opacity: 1; transform: translateY(0); }\n",
        "        }\n",
        "    </style>\n",
        "    \"\"\",\n",
        "    unsafe_allow_html=True\n",
        ")\n",
        "\n",
        "st.markdown(\"<h1 style='text-align: center; color: #333;'>✨ Ultimate BMI Calculator ⚖️ ✨</h1>\", unsafe_allow_html=True)\n",
        "\n",
        "weight = st.number_input(\"⚖️ Enter your weight (kg):\", min_value=1.0, step=0.1, value=50.0)\n",
        "height = st.number_input(\"📏 Enter your height (m):\", min_value=0.1, step=0.01, value=1.6)\n",
        "\n",
        "if st.button(\"🔥 Calculate My BMI Now! 🔥\"):\n",
        "    if weight > 0 and height > 0:\n",
        "        with st.spinner(\"🔄 Analyzing your health stats... Please wait! 🧮\"):\n",
        "            time.sleep(1)\n",
        "        bmi = calculate_bmi(weight, height)\n",
        "        category = bmi_category(bmi)\n",
        "\n",
        "        st.markdown(f\"\"\"\n",
        "            <div class='result-box'>\n",
        "                <h2 style='color: #ff5e62;'>📊 Your BMI: <strong>{bmi:.2f}</strong></h2>\n",
        "                <h3 style='color: #007bff;'>🏆 Category: <strong>{category}</strong></h3>\n",
        "                <p style='font-size: 16px; color: #555;'>💡 Maintain a balanced diet and an active lifestyle for optimal health! 🌿💖</p>\n",
        "            </div>\n",
        "        \"\"\", unsafe_allow_html=True)\n",
        "    else:\n",
        "        st.error(\"🚨 Oops! Please enter a valid weight and height to proceed. 🚨\")\n"
      ],
      "metadata": {
        "id": "8YMvBF8eD6ex"
      },
      "execution_count": null,
      "outputs": []
    }
  ]
}