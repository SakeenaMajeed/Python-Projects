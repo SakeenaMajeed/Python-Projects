{
  "nbformat": 4,
  "nbformat_minor": 0,
  "metadata": {
    "colab": {
      "provenance": [],
      "authorship_tag": "ABX9TyMQOsTxh33Egc0GV+9YvQ9v",
      "include_colab_link": true
    },
    "kernelspec": {
      "name": "python3",
      "display_name": "Python 3"
    },
    "language_info": {
      "name": "python"
    }
  },
  "cells": [
    {
      "cell_type": "markdown",
      "metadata": {
        "id": "view-in-github",
        "colab_type": "text"
      },
      "source": [
        "<a href=\"https://colab.research.google.com/github/SakeenaMajeed/Python-Projects/blob/main/Hangman_Python_Project.ipynb\" target=\"_parent\"><img src=\"https://colab.research.google.com/assets/colab-badge.svg\" alt=\"Open In Colab\"/></a>"
      ]
    },
    {
      "cell_type": "markdown",
      "source": [
        "# Project 5 Hangman Python Project\n",
        "[Linkedin](https://www.linkedin.com/in/sakeena-majeed-86b58732a/)"
      ],
      "metadata": {
        "id": "aTG__Ak2ngFE"
      }
    },
    {
      "cell_type": "code",
      "execution_count": null,
      "metadata": {
        "colab": {
          "base_uri": "https://localhost:8080/"
        },
        "id": "SFCZ2_E2LEk-",
        "outputId": "15448684-654b-48fc-cbc3-ece3f1dabef6"
      },
      "outputs": [
        {
          "output_type": "stream",
          "name": "stdout",
          "text": [
            "🎭 Welcome to Hangman! Can you guess the word? 🔤\n",
            "_ _ _ _ _ _ _\n",
            "🔤 Guess a letter: python\n",
            "❌ Wrong! You have 5 attempts left.\n",
            "  😵💀  \n",
            "_ _ _ _ _ _ _\n",
            "🔤 Guess a letter: programming\n",
            "❌ Wrong! You have 4 attempts left.\n",
            "  😨|   \n",
            "_ _ _ _ _ _ _\n",
            "🔤 Guess a letter: developer\n",
            "❌ Wrong! You have 3 attempts left.\n",
            "  😰/|  \n",
            "_ _ _ _ _ _ _\n",
            "🔤 Guess a letter: computer\n",
            "❌ Wrong! You have 2 attempts left.\n",
            "  🥶/|\\ \n",
            "_ _ _ _ _ _ _\n",
            "🔤 Guess a letter: science\n",
            "❌ Wrong! You have 1 attempts left.\n",
            "  🫣/|\\ \n",
            "_ _ _ _ _ _ _\n",
            "🔤 Guess a letter: science\n",
            "❌ Wrong! You have 0 attempts left.\n",
            "  😱/|\\ /  \n",
            "💀 Game Over! The correct word was: HANGMAN\n"
          ]
        }
      ],
      "source": [
        "import random\n",
        "\n",
        "# List of words\n",
        "words = [\"python\", \"developer\", \"hangman\", \"programming\", \"computer\", \"science\"]\n",
        "\n",
        "# Randomly select a word\n",
        "word = random.choice(words)\n",
        "word_letters = set(word)  # Unique letters in the word\n",
        "guessed_letters = set()  # Letters guessed by the user\n",
        "attempts = 6  # Total chances\n",
        "\n",
        "print(\"🎭 Welcome to Hangman! Can you guess the word? 🔤\")\n",
        "\n",
        "while attempts > 0 and word_letters:\n",
        "    # Show current word progress\n",
        "    display_word = [letter if letter in guessed_letters else \"_\" for letter in word]\n",
        "    print(\" \".join(display_word))\n",
        "\n",
        "    # Get user input\n",
        "    guess = input(\"🔤 Guess a letter: \").lower()\n",
        "\n",
        "    if guess in guessed_letters:\n",
        "        print(\"⚠️ You already guessed that letter! Try again.\")\n",
        "    elif guess in word_letters:\n",
        "        guessed_letters.add(guess)\n",
        "        word_letters.remove(guess)\n",
        "        print(\"✅ Correct!\")\n",
        "    else:\n",
        "        attempts -= 1\n",
        "        print(f\"❌ Wrong! You have {attempts} attempts left.\")\n",
        "\n",
        "        # Hangman Figure (Fix: Adjusted index)\n",
        "        hangman_stages = [\n",
        "            \"  😵💀  \",   # 6th attempt gone\n",
        "            \"  😨|   \",   # 5th attempt gone\n",
        "            \"  😰/|  \",   # 4th attempt gone\n",
        "            \"  🥶/|\\\\ \",  # 3rd attempt gone\n",
        "            \"  🫣/|\\\\ \",  # 2nd attempt gone\n",
        "            \"  😱/|\\\\ /  \" # 1st attempt gone\n",
        "        ]\n",
        "        if attempts < 6:\n",
        "            print(hangman_stages[5 - attempts])  # Fix: Adjusted index\n",
        "\n",
        "# Game Over Check\n",
        "if not word_letters:\n",
        "    print(f\"🎉 Congratulations! You guessed the word: {word.upper()} 🏆\")\n",
        "else:\n",
        "    print(f\"💀 Game Over! The correct word was: {word.upper()}\")\n"
      ]
    }
  ]
}