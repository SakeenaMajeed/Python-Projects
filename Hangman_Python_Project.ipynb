{
  "nbformat": 4,
  "nbformat_minor": 0,
  "metadata": {
    "colab": {
      "provenance": [],
      "authorship_tag": "ABX9TyOBdfVaNKow2bzczcHX5pjZ",
      "include_colab_link": true
    },
    "kernelspec": {
      "name": "python3",
      "display_name": "Python 3"
    },
    "language_info": {
      "name": "python"
    }
  },
  "cells": [
    {
      "cell_type": "markdown",
      "metadata": {
        "id": "view-in-github",
        "colab_type": "text"
      },
      "source": [
        "<a href=\"https://colab.research.google.com/github/SakeenaMajeed/Python-Projects/blob/main/Hangman_Python_Project.ipynb\" target=\"_parent\"><img src=\"https://colab.research.google.com/assets/colab-badge.svg\" alt=\"Open In Colab\"/></a>"
      ]
    },
    {
      "cell_type": "code",
      "execution_count": null,
      "metadata": {
        "colab": {
          "base_uri": "https://localhost:8080/"
        },
        "id": "SFCZ2_E2LEk-",
        "outputId": "cae0c498-8638-4f52-ddd7-aacee0f8c2c4"
      },
      "outputs": [
        {
          "output_type": "stream",
          "name": "stdout",
          "text": [
            "🎭 Welcome to Hangman! Can you guess the word? 🔤\n",
            "_ _ _ _ _ _ _\n"
          ]
        }
      ],
      "source": [
        "import random\n",
        "\n",
        "# List of words\n",
        "words = [\"python\", \"developer\", \"hangman\", \"programming\", \"computer\", \"science\"]\n",
        "\n",
        "\n",
        "word = random.choice(words)\n",
        "word_letters = set(word)\n",
        "guessed_letters = set()\n",
        "attempts = 6\n",
        "\n",
        "print(\"🎭 Welcome to Hangman! Can you guess the word? 🔤\")\n",
        "\n",
        "while attempts > 0 and word_letters:\n",
        "    # Show current word progress\n",
        "    display_word = [letter if letter in guessed_letters else \"_\" for letter in word]\n",
        "    print(\" \".join(display_word))\n",
        "\n",
        "    # Get user input\n",
        "    guess = input(\"🔤 Guess a letter: \").lower()\n",
        "\n",
        "    if guess in guessed_letters:\n",
        "        print(\"⚠️ You already guessed that letter! Try again.\")\n",
        "    elif guess in word_letters:\n",
        "        guessed_letters.add(guess)\n",
        "        word_letters.remove(guess)\n",
        "        print(\"✅ Correct!\")\n",
        "    else:\n",
        "        attempts -= 1\n",
        "        print(f\"❌ Wrong! You have {attempts} attempts left.\")\n",
        "\n",
        "        hangman_stages = [\n",
        "            \"  😵💀  \",\n",
        "            \"  😨  \",\n",
        "            \"  😰  \",\n",
        "            \"  🥶  \",\n",
        "            \"  😰  \",\n",
        "            \"  😱  \"\n",
        "        ]\n",
        "        if attempts < 6:\n",
        "            print(hangman_stages[5 - attempts])\n",
        "\n",
        "if not word_letters:\n",
        "    print(f\"🎉 Congratulations! You guessed the word: {word.upper()} 🏆\")\n",
        "else:\n",
        "    print(f\"💀 Game Over! The correct word was: {word.upper()}\")\n"
      ]
    }
  ]
}