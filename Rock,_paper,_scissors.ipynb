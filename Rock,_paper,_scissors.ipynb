{
  "nbformat": 4,
  "nbformat_minor": 0,
  "metadata": {
    "colab": {
      "provenance": [],
      "authorship_tag": "ABX9TyP3xTlZUFlRv0laVfhJknA1",
      "include_colab_link": true
    },
    "kernelspec": {
      "name": "python3",
      "display_name": "Python 3"
    },
    "language_info": {
      "name": "python"
    }
  },
  "cells": [
    {
      "cell_type": "markdown",
      "metadata": {
        "id": "view-in-github",
        "colab_type": "text"
      },
      "source": [
        "<a href=\"https://colab.research.google.com/github/SakeenaMajeed/Python-Projects/blob/main/Rock%2C_paper%2C_scissors.ipynb\" target=\"_parent\"><img src=\"https://colab.research.google.com/assets/colab-badge.svg\" alt=\"Open In Colab\"/></a>"
      ]
    },
    {
      "cell_type": "markdown",
      "source": [
        "# Project 4 Rock, paper, scissors Python Project\n",
        "[Linkedin](https://www.linkedin.com/in/sakeena-majeed-86b58732a/)\n",
        "\n"
      ],
      "metadata": {
        "id": "pYwLYM8amk5b"
      }
    },
    {
      "cell_type": "code",
      "execution_count": null,
      "metadata": {
        "colab": {
          "base_uri": "https://localhost:8080/"
        },
        "id": "FkF_PQQWKAsn",
        "outputId": "4fb193f0-9a42-4c4d-f5c3-d55c8eb9e776"
      },
      "outputs": [
        {
          "output_type": "stream",
          "name": "stdout",
          "text": [
            "🎮 Welcome to Rock, Paper, Scissors! ✂️🪨📄\n",
            "🤔 Choose: Rock, Paper, or Scissors? rock\n",
            "🧑 You chose: Rock 🎭\n",
            "🤖 Computer chose: Scissors 💻\n",
            "🎉 You win! 🏆🔥\n"
          ]
        }
      ],
      "source": [
        "import random\n",
        "\n",
        "def play_game():\n",
        "    print(\"🎮 Welcome to Rock, Paper, Scissors! ✂️🪨📄\")\n",
        "\n",
        "    choices = [\"rock\", \"paper\", \"scissors\"]\n",
        "    user_choice = input(\"🤔 Choose: Rock, Paper, or Scissors? \").lower()\n",
        "\n",
        "    if user_choice not in choices:\n",
        "        print(\"⚠️ Invalid choice! Please choose Rock, Paper, or Scissors. ❌\")\n",
        "        return\n",
        "\n",
        "    computer_choice = random.choice(choices)\n",
        "\n",
        "    print(f\"🧑 You chose: {user_choice.capitalize()} 🎭\")\n",
        "    print(f\"🤖 Computer chose: {computer_choice.capitalize()} 💻\")\n",
        "\n",
        "    if user_choice == computer_choice:\n",
        "        print(\"😲 It's a tie! Try again. 🔄\")\n",
        "    elif (user_choice == \"rock\" and computer_choice == \"scissors\") or \\\n",
        "         (user_choice == \"paper\" and computer_choice == \"rock\") or \\\n",
        "         (user_choice == \"scissors\" and computer_choice == \"paper\"):\n",
        "        print(\"🎉 You win! 🏆🔥\")\n",
        "    else:\n",
        "        print(\"😢 You lose! Better luck next time. 💀\")\n",
        "\n",
        "play_game()\n"
      ]
    }
  ]
}