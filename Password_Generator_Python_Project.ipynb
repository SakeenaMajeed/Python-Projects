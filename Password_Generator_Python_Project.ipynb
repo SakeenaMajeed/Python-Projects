{
  "nbformat": 4,
  "nbformat_minor": 0,
  "metadata": {
    "colab": {
      "provenance": [],
      "authorship_tag": "ABX9TyNkkUIkcfLBrOkWcQikjR+o",
      "include_colab_link": true
    },
    "kernelspec": {
      "name": "python3",
      "display_name": "Python 3"
    },
    "language_info": {
      "name": "python"
    }
  },
  "cells": [
    {
      "cell_type": "markdown",
      "metadata": {
        "id": "view-in-github",
        "colab_type": "text"
      },
      "source": [
        "<a href=\"https://colab.research.google.com/github/SakeenaMajeed/Python-Projects/blob/main/Password_Generator_Python_Project.ipynb\" target=\"_parent\"><img src=\"https://colab.research.google.com/assets/colab-badge.svg\" alt=\"Open In Colab\"/></a>"
      ]
    },
    {
      "cell_type": "markdown",
      "source": [
        "# Project 7: Password Generator Python Project\n",
        "[Linkedin](https://www.linkedin.com/in/sakeena-majeed-86b58732a/)\n"
      ],
      "metadata": {
        "id": "nHinW4Nzth_f"
      }
    },
    {
      "cell_type": "code",
      "execution_count": 9,
      "metadata": {
        "colab": {
          "base_uri": "https://localhost:8080/"
        },
        "id": "gb1NNR7UqUCZ",
        "outputId": "2ac3ba48-eb56-48b0-9bc0-0c65d985d391"
      },
      "outputs": [
        {
          "output_type": "stream",
          "name": "stdout",
          "text": [
            "Enter the length of the password: 1234\n",
            "Generated Password ➡: `~Cse0#Xp^3`qVX2!z_;G?mB(V-fbv%&g{c7X.w[mpHftT]hY3._J]01HfOF%8U?Z`QJ}j&x]7^G|7+vLd)%?XiCx7zDxAZ}2wYl\\Q#[0(]UNGb5MG8x7>()+SX%>h))A@HJC+F+\"wdo<@8'qJxl'~IJ4]u1lT7~?O!zmmNpEaj0#[BNG!V9!\\,}Fj2x;d+,M;!P/@XPykXR}\\r%SDH|Y`}J>ws5rHS1;xd6-U0mV3O>=.NfH/k:<Du>s4L)U4=>Ry'S<%fAqaKt[/aWl7\\Yg->v@<P;,.HWf)J~5qbcy3hi=3NovNIgfMj&\"}En!H_;YEN+8)Og9@G`jT&+):,g$Ug6ERa9/&&,''gc_hgpE&]]=NFU_hvGn\\|I8vg9/+y}&CJEH\\]6^*h`Ge\"6qZXUl8E5Z/:$W]jF#j7]0D0;^B10G13k';a,;,yPB2J`sbsHZWTWx8v:SR<?DS5uEsgqSyyb5%k#h-6[68S(uu#I!0>;YTF;vxDCp=aU7uBn5;vR'^$E]^iU*)^2e~8s,W{gW(%Q%nrCBTIdH]7'*5(2&<e6<ryYF}Ld26UsjqTmMh1a`jv38kj6N/MET_6.Vi?`_N[kPOBTvO'2SsdUltz`L:HSybnW\"2\"o(S~Ku,i&b3'OAz\"<!M?t;r3a$_s&H=TW#yf\\!q(ql=G%]&.cOWHg4~aW!7*F-edpMw\\2Y.Eq2Sk)v*>\\p9[c/U4fJ\"[?zOnRpR3F>[_WHrr[%F(64zm@x+efPT6sp`1+Le]{^'EVB9@X,a#6h]2M#t;l&&L)2?EM$z*!_;emgqN?a}.y=8:2)lnTmw)OI?,],^uLUk}b7?/U~*k|ERGsxWW\"{b~zRi)8>wKz[Fqs[tR[gu6ARP>8ZGYt?v8E\"VG-/U3;*Sd|nbc%<!w(.)lOn;HC=_26z,nl#BJ+B0W]/>PPOd5*0q230Mn&'R[Poiaf;tX@&40.kLxH~*%g.X}+H\"\"v\")ic:nJ7?^P9ikbh>8(N#!Znk?L$M?_Ys=4{7<D;@!lOn+U\\!A:4.k,J+5xN,dLdEkzhWN@BgU;dcI,*AaIW(\\hYDssw?ud1_qrbSb-I:~Tz'5KT<uY46/}TR{MgtwZl(a^^$Fx,$UT2?[I?:&n9\\UF*,ko1dx<I&a|\\]!,r^Wb(Vb}UzzvD4hyyy,B$!J4NFzA/Z|%]Ka.Xvcu7{<M>#PN]b7OU.\"#a$P\"-Iwawi@P+,x`YuH)dzZ!H~Ap[tYrFA{$y0`\n"
          ]
        }
      ],
      "source": [
        "import random\n",
        "import string\n",
        "\n",
        "def generate_password(length):\n",
        "    characters = string.ascii_letters + string.digits + string.punctuation\n",
        "    password = \"\".join(random.choice(characters) for _ in range(length))\n",
        "    return password\n",
        "\n",
        "length = int(input(\"Enter the length of the password: \"))\n",
        "\n",
        "if length < 4:\n",
        "    print(\"Password length should be at least 4 characters. \")\n",
        "else:\n",
        "    print(\"Generated Password :\", generate_password(length))"
      ]
    }
  ]
}