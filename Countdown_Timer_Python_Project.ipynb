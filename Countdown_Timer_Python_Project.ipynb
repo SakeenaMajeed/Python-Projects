{
  "nbformat": 4,
  "nbformat_minor": 0,
  "metadata": {
    "colab": {
      "provenance": [],
      "authorship_tag": "ABX9TyMIAiNQJ6oP0H4MlrCyF5nv",
      "include_colab_link": true
    },
    "kernelspec": {
      "name": "python3",
      "display_name": "Python 3"
    },
    "language_info": {
      "name": "python"
    }
  },
  "cells": [
    {
      "cell_type": "markdown",
      "metadata": {
        "id": "view-in-github",
        "colab_type": "text"
      },
      "source": [
        "<a href=\"https://colab.research.google.com/github/SakeenaMajeed/Python-Projects/blob/main/Countdown_Timer_Python_Project.ipynb\" target=\"_parent\"><img src=\"https://colab.research.google.com/assets/colab-badge.svg\" alt=\"Open In Colab\"/></a>"
      ]
    },
    {
      "cell_type": "markdown",
      "source": [
        "# **Project 6 Countdown Timer Python Project!**\n",
        "[Linkedin](https://www.linkedin.com/in/sakeena-majeed-86b58732a/)\n"
      ],
      "metadata": {
        "id": "IVF9rnmDSIRW"
      }
    },
    {
      "cell_type": "code",
      "execution_count": 13,
      "metadata": {
        "colab": {
          "base_uri": "https://localhost:8080/"
        },
        "id": "HwnFMkitOxcP",
        "outputId": "58f12536-7e8c-449e-a427-fe2fe1deb0f2"
      },
      "outputs": [
        {
          "output_type": "stream",
          "name": "stdout",
          "text": [
            "Enter time in seconds⏲: 44\n",
            "00:01\n",
            "Time's up!⛔ \n"
          ]
        }
      ],
      "source": [
        "import time\n",
        "\n",
        "def countdown_timer(seconds):\n",
        "    while seconds > 0:\n",
        "        mins, secs = divmod(seconds, 60)\n",
        "        print(f\"\\r{mins:02}:{secs:02}\", end=\"\")\n",
        "        time.sleep(1)\n",
        "        seconds -= 1\n",
        "\n",
        "    print(\"\\nTime's up! \")\n",
        "\n",
        "time_in_seconds = int(input(\"Enter time in seconds⏲: \"))\n",
        "countdown_timer(time_in_seconds)"
      ]
    }
  ]
}