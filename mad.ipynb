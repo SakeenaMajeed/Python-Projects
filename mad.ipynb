{
  "nbformat": 4,
  "nbformat_minor": 0,
  "metadata": {
    "colab": {
      "provenance": [],
      "include_colab_link": true
    },
    "kernelspec": {
      "name": "python3",
      "display_name": "Python 3"
    },
    "language_info": {
      "name": "python"
    }
  },
  "cells": [
    {
      "cell_type": "markdown",
      "metadata": {
        "id": "view-in-github",
        "colab_type": "text"
      },
      "source": [
        "<a href=\"https://colab.research.google.com/github/SakeenaMajeed/Python-Projects/blob/main/mad.ipynb\" target=\"_parent\"><img src=\"https://colab.research.google.com/assets/colab-badge.svg\" alt=\"Open In Colab\"/></a>"
      ]
    },
    {
      "cell_type": "code",
      "source": [
        "import random\n",
        "\n",
        "print(\"🔥 Welcome to the Mad Libs Adventure! 🔥\\n\")\n",
        "print(\"😆 Fill in the blanks and create your own hilarious story!\\n\")\n",
        "\n",
        "name = input(\"😜 Enter your name: \")\n",
        "superpower = input(\"⚡ Enter a superpower: \")\n",
        "animal = input(\"🐾 Enter a random animal: \")\n",
        "place = input(\"📍 Enter a weird place: \")\n",
        "food = input(\"🍕 Enter a delicious food: \")\n",
        "object = input(\"🎾 Enter a random object: \")\n",
        "emotion = input(\"😊 Enter an emotion: \")\n",
        "sound = input(\"🔊 Enter a funny sound (like 'Boing' or 'Kaboom'): \")\n",
        "\n",
        "actions = [\n",
        "    \"started dancing like a chicken 🐔💃\",\n",
        "    \"flew up in the sky ☁️🚀\",\n",
        "    \"turned into a frog 🐸😂\",\n",
        "    \"sang a song about potatoes 🎶🥔\",\n",
        "    \"did 100 push-ups in 2 seconds 💪😆\"\n",
        "]\n",
        "\n",
        "random_action = random.choice(actions)\n",
        "\n",
        "story = f\"\"\"\n",
        "🌟✨ YOUR CRAZY MAD LIBS STORY ✨🌟\n",
        "\n",
        "📌 ONE DAY, {name} 😴✨ woke up and discovered they had an amazing superpower: {superpower}! 🦸‍♂️⚡\n",
        "   Excited, {name} decided to test it out by going to {place} 🏞️🏃‍♂️.\n",
        "🐾 As soon as they arrived, they saw a giant {animal} 😱 blocking the way! 🚧\n",
        "   Without thinking twice, {name} used their {superpower} 💥 and {random_action.upper()} 🌀💨.\n",
        "🎉 The {animal} was so {emotion} 🤩 that it made a loud '{sound}!' 🔊 and ran away! 🏃‍♂️💨\n",
        "🍛 After this crazy adventure, {name} sat down 🪑, picked up a {object} 🎾, and started eating {food} 🤤.\n",
        "🏆🔥 And that, my friend, is how {name} became the legend of {place}! 🎭🎉\n",
        "\"\"\"\n",
        "\n",
        "print(\"\\n\" + \"=\"*50)\n",
        "print(story)\n",
        "print(\"=\"*50 + \"\\n\")\n"
      ],
      "metadata": {
        "colab": {
          "base_uri": "https://localhost:8080/"
        },
        "id": "YZdWLL345YnN",
        "outputId": "b25a2e93-40cf-4929-ef9c-d9b44c949732"
      },
      "execution_count": null,
      "outputs": [
        {
          "output_type": "stream",
          "name": "stdout",
          "text": [
            "🔥 Welcome to the Mad Libs Adventure! 🔥\n",
            "\n",
            "😆 Fill in the blanks and create your own hilarious story!\n",
            "\n",
            "😜 Enter your name: Sakeena\n",
            "⚡ Enter a superpower: flying\n",
            "🐾 Enter a random animal: cow\n",
            "📍 Enter a weird place: zoo\n",
            "🍕 Enter a delicious food: pizza\n",
            "🎾 Enter a random object: ball\n",
            "😊 Enter an emotion: happy\n",
            "🔊 Enter a funny sound (like 'Boing' or 'Kaboom'): boing\n",
            "\n",
            "==================================================\n",
            "\n",
            "🌟✨ YOUR CRAZY MAD LIBS STORY ✨🌟  \n",
            "\n",
            "📌 ONE DAY, Sakeena 😴✨ woke up and discovered they had an amazing superpower: flying! 🦸‍♂️⚡  \n",
            "   Excited, Sakeena decided to test it out by going to zoo 🏞️🏃‍♂️.  \n",
            "🐾 As soon as they arrived, they saw a giant cow 😱 blocking the way! 🚧  \n",
            "   Without thinking twice, Sakeena used their flying 💥 and STARTED DANCING LIKE A CHICKEN 🐔💃 🌀💨.  \n",
            "🎉 The cow was so happy 🤩 that it made a loud 'boing!' 🔊 and ran away! 🏃‍♂️💨  \n",
            "🍛 After this crazy adventure, Sakeena sat down 🪑, picked up a ball 🎾, and started eating pizza 🤤.  \n",
            "🏆🔥 And that, my friend, is how Sakeena became the legend of zoo! 🎭🎉  \n",
            "\n",
            "==================================================\n",
            "\n"
          ]
        }
      ]
    }
  ]
}