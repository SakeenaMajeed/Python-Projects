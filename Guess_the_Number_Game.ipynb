{
  "nbformat": 4,
  "nbformat_minor": 0,
  "metadata": {
    "colab": {
      "provenance": [],
      "authorship_tag": "ABX9TyOJMKKIxXuWCJMbPG0rTUtU",
      "include_colab_link": true
    },
    "kernelspec": {
      "name": "python3",
      "display_name": "Python 3"
    },
    "language_info": {
      "name": "python"
    }
  },
  "cells": [
    {
      "cell_type": "markdown",
      "metadata": {
        "id": "view-in-github",
        "colab_type": "text"
      },
      "source": [
        "<a href=\"https://colab.research.google.com/github/SakeenaMajeed/Python-Projects/blob/main/Guess_the_Number_Game.ipynb\" target=\"_parent\"><img src=\"https://colab.research.google.com/assets/colab-badge.svg\" alt=\"Open In Colab\"/></a>"
      ]
    },
    {
      "cell_type": "code",
      "source": [
        "import random\n",
        "\n",
        "def guess_the_number():\n",
        "    print(\"🎯 Welcome to the 'Guess the Number' Game! 🤩🎮\")\n",
        "    print(\"🤖 The computer has chosen a secret number between **1 and 20**. Can you guess it? 🔢🤔\")\n",
        "\n",
        "    secret_number = random.randint(1, 20)\n",
        "\n",
        "    attempts = 0\n",
        "\n",
        "    while True:\n",
        "        try:\n",
        "            user_guess = int(input(\"💡 Enter your guess (1-20): \"))\n",
        "            attempts += 1\n",
        "\n",
        "            if user_guess < secret_number:\n",
        "                print(\"📉 Too low! Try a **higher** number. ⬆️\")\n",
        "            elif user_guess > secret_number:\n",
        "                print(\"📈 Too high! Try a **lower** number. ⬇️\")\n",
        "            else:\n",
        "                print(f\"🎉 **Congratulations!** Wohoooo! 🎊 You guessed the right number in **{attempts}** attempts! 🏆🥳\")\n",
        "                break\n",
        "        except ValueError:\n",
        "            print(\"⚠️ **Oops!** Please enter a valid **number** between 1 and 20. 🔢\")\n",
        "guess_the_number()\n"
      ],
      "metadata": {
        "colab": {
          "base_uri": "https://localhost:8080/"
        },
        "id": "4aCaeqAnEnZP",
        "outputId": "1c238c64-515f-4e48-be31-9ba92c876761"
      },
      "execution_count": null,
      "outputs": [
        {
          "output_type": "stream",
          "name": "stdout",
          "text": [
            "🎯 Welcome to the 'Guess the Number' Game! 🤩🎮\n",
            "🤖 The computer has chosen a secret number between **1 and 20**. Can you guess it? 🔢🤔\n",
            "💡 Enter your guess (1-20): 16\n",
            "📈 Too high! Try a **lower** number. ⬇️\n",
            "💡 Enter your guess (1-20): 8\n",
            "📉 Too low! Try a **higher** number. ⬆️\n",
            "💡 Enter your guess (1-20): 10\n",
            "🎉 **Congratulations!** Wohoooo! 🎊 You guessed the right number in **3** attempts! 🏆🥳\n"
          ]
        }
      ]
    }
  ]
}